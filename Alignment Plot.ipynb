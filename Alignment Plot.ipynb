{
 "cells": [
  {
   "cell_type": "code",
   "execution_count": 18,
   "metadata": {
    "collapsed": false,
    "jupyter": {
     "outputs_hidden": false
    }
   },
   "outputs": [],
   "source": [
    "from Bio import AlignIO\n",
    "import yaml\n",
    "%matplotlib inline\n",
    "import pandas as pd\n",
    "import matplotlib\n",
    "import seaborn as sns\n",
    "import matplotlib.patches as mpatches\n",
    "import matplotlib.pyplot as plt\n",
    "import matplotlib.dates as mdates\n",
    "sns.set_context(\"notebook\", font_scale=1.50)\n",
    "sns.set_style(\"ticks\")"
   ]
  },
  {
   "cell_type": "code",
   "execution_count": null,
   "metadata": {},
   "outputs": [],
   "source": [
    "aln = AlignIO.read(open(\"knownGenesFullLen.aln\"), format=\"clustal\")\n",
    "to_remove = \"\"\"MHCI_EXON1-N00401\n",
    "MHCI_EXON3-N00401\n",
    "MHCI_EXON4-N00401\n",
    "MHCI_EXON8-N00401\n",
    "MHCI_EXON6-N00401\n",
    "MHCI_EXON7-N00401\n",
    "MHCI_EXON5-N00401\n",
    "MHCI_EXON2-N00401\n",
    "Rev1\n",
    "For3\n",
    "For1\n",
    "Rev2\n",
    "MHCI_CODING_SEQUENCE-N00401\"\"\".split(\"\\n\")"
   ]
  },
  {
   "cell_type": "code",
   "execution_count": null,
   "metadata": {},
   "outputs": [],
   "source": [
    "aln_length = aln.get_alignment_length()\n",
    "from operator import itemgetter\n",
    "from collections import Counter\n",
    "score_dict = {}\n",
    "for i in range(aln_length):\n",
    "    score_dict[i] = Counter(map(itemgetter(i), [j.seq for j in list(aln) if not j.id in to_remove])) "
   ]
  },
  {
   "cell_type": "code",
   "execution_count": null,
   "metadata": {},
   "outputs": [],
   "source": [
    "import yaml\n",
    "yaml.dump(score_dict, open(\"knownGenesFullLen.aln.yaml\", \"w\"))"
   ]
  },
  {
   "cell_type": "code",
   "execution_count": 2,
   "metadata": {
    "collapsed": false,
    "jupyter": {
     "outputs_hidden": false
    }
   },
   "outputs": [],
   "source": [
    "score = yaml.load(open(\"knownGenesFullLen.aln.yaml\"))"
   ]
  },
  {
   "cell_type": "code",
   "execution_count": 3,
   "metadata": {
    "collapsed": false,
    "jupyter": {
     "outputs_hidden": false
    }
   },
   "outputs": [],
   "source": [
    "score_df = pd.DataFrame.from_dict(score).T.fillna(0)"
   ]
  },
  {
   "cell_type": "code",
   "execution_count": 4,
   "metadata": {
    "collapsed": true,
    "jupyter": {
     "outputs_hidden": true
    }
   },
   "outputs": [],
   "source": [
    "from matplotlib.ticker import MultipleLocator"
   ]
  },
  {
   "cell_type": "code",
   "execution_count": 5,
   "metadata": {
    "collapsed": false,
    "jupyter": {
     "outputs_hidden": false
    }
   },
   "outputs": [],
   "source": [
    "# pd.options.display.max_rows = 1600\n",
    "def plot_this(score_df, start=None, end=None, primer='For1'):\n",
    "    matplotlib.pyplot.figure()\n",
    "    ax = score_df.drop('-', axis=1).max(axis=1)[start:end].plot(kind='bar', color='dodgerblue', \n",
    "                                                           edgecolor='none', alpha=0.5,\n",
    "                                                      width=1, linewidth=0, figsize=(25, 1.5))\n",
    "#     _ = ax.set_xticklabels([])\n",
    "    _ = ax.set_yticklabels([])\n",
    "#     _ = ax.set_xticklabels(range(start+1, end+2, 10), rotation=0)\n",
    "    ax.xaxis.set_major_locator(MultipleLocator(50))\n",
    "    ax.xaxis.set_minor_locator(MultipleLocator(1))\n",
    "    print(start, end)\n",
    "    _ = ax.set_xticklabels(range(start-50, end+1, 50), rotation=0)\n",
    "    _ = ax.xaxis.set_ticks_position('top') \n",
    "    ax.spines['left'].set_visible(False)\n",
    "    ax.spines['right'].set_visible(False)\n",
    "    ax.tick_params(right='off', left='off')"
   ]
  },
  {
   "cell_type": "code",
   "execution_count": 6,
   "metadata": {
    "collapsed": false,
    "jupyter": {
     "outputs_hidden": false
    }
   },
   "outputs": [
    {
     "name": "stdout",
     "output_type": "stream",
     "text": [
      "31 631\n",
      "631 1231\n"
     ]
    },
    {
     "data": {
      "image/png": "[encoded data removed]",
      "text/plain": [
       "<matplotlib.figure.Figure at 0x1065ec080>"
      ]
     },
     "metadata": {},
     "output_type": "display_data"
    },
    {
     "data": {
      "image/png": "[encoded data removed]",
      "text/plain": [
       "<matplotlib.figure.Figure at 0x1064457b8>"
      ]
     },
     "metadata": {},
     "output_type": "display_data"
    }
   ],
   "source": [
    "for i in range(31, 1116, 600):\n",
    "    plot_this(score_df, start=i, end=i+600)"
   ]
  },
  {
   "cell_type": "markdown",
   "metadata": {},
   "source": [
    "for3 266-282\n",
    "for1 173-190\n",
    "rev2 569-587\n",
    "rev1 601-619"
   ]
  },
  {
   "cell_type": "code",
   "execution_count": 21,
   "metadata": {
    "collapsed": false,
    "jupyter": {
     "outputs_hidden": false
    }
   },
   "outputs": [],
   "source": [
    "# pd.options.display.max_rows = 1600\n",
    "def plot_color(ax, score_df, start=None, end=None, primer='For1', \n",
    "               arrow=False, text=None, a_s=None, l_e=None,\n",
    "               both_arrows=False, text1=None, text2=None, \n",
    "               a_s1=None, a_s2=None, l_e1=None, l_e2=None):\n",
    "    temp = pd.DataFrame(score_df.drop('-', axis=1).max(axis=1)[start:end], columns=['value'])\n",
    "    temp['set1'] = 0\n",
    "    temp['set2'] = 0\n",
    "    temp['exon1'] = 0\n",
    "    temp.loc[31:100, 'exon1'] = temp.loc[31:100, 'value']\n",
    "    temp.loc[31:100, 'value'] = 0\n",
    "    temp.loc[101:171, 'exon2a'] = temp.loc[101:171, 'value']\n",
    "    temp.loc[101:171, 'value'] = 0\n",
    "    temp.loc[172:189, 'set1'] = temp.loc[172:189, 'value']\n",
    "    temp.loc[172:189, 'value'] = 0\n",
    "    temp.loc[190:264, 'exon2b'] = temp.loc[190:264, 'value']\n",
    "    temp.loc[190:264, 'value'] = 0\n",
    "    temp.loc[265:281, 'set2'] = temp.loc[265:281, 'value']\n",
    "    temp.loc[265:281, 'value'] = 0\n",
    "    temp.loc[282:370, 'exon2c'] = temp.loc[282:370, 'value']\n",
    "    temp.loc[282:370, 'value'] = 0\n",
    "    temp.loc[371:567, 'exon3a'] = temp.loc[371:567, 'value']\n",
    "    temp.loc[371:567, 'value'] = 0\n",
    "    temp.loc[567:586, 'set1'] = temp.loc[568:586, 'value']\n",
    "    temp.loc[567:586, 'value'] = 0\n",
    "    temp.loc[587:600, 'exon3b'] = temp.loc[587:600, 'value']\n",
    "    temp.loc[587:600, 'value'] = 0\n",
    "    temp.loc[600:618, 'set2'] = temp.loc[600:618, 'value']\n",
    "    temp.loc[600:618, 'value'] = 0 \n",
    "    temp.loc[619:646, 'exon3c'] = temp.loc[619:646, 'value']\n",
    "    temp.loc[619:646, 'value'] = 0\n",
    "    temp.loc[647:922, 'exon4'] = temp.loc[647:922, 'value']\n",
    "    temp.loc[647:922, 'value'] = 0\n",
    "    temp.loc[923:1033, 'exon5'] = temp.loc[923:1033, 'value']\n",
    "    temp.loc[923:1033, 'value'] = 0\n",
    "    temp.loc[1034:1066, 'exon6'] = temp.loc[1034:1066, 'value']\n",
    "    temp.loc[1034:1066, 'value'] = 0\n",
    "    temp.loc[1067:1115, 'exon7'] = temp.loc[1067:1115, 'value']\n",
    "    temp.loc[1067:1115, 'value'] = 0\n",
    "    temp.plot(kind='bar', color=['dodgerblue', sns.xkcd_rgb['grass green'], sns.xkcd_rgb['red'], sns.xkcd_rgb['orange brown'], \n",
    "                                 sns.xkcd_rgb['dark teal'], sns.xkcd_rgb['dark teal'], sns.xkcd_rgb['dark teal'], \n",
    "                                 sns.xkcd_rgb['dark pink'], sns.xkcd_rgb['dark pink'], sns.xkcd_rgb['dark pink'], \n",
    "                                 sns.xkcd_rgb['royal blue'], \n",
    "                                 sns.xkcd_rgb['olive green'], sns.xkcd_rgb['crimson'], sns.xkcd_rgb['yellow orange']], stacked=True, \n",
    "                   edgecolor='none', alpha=0.5, ax=ax,\n",
    "                    width=1, linewidth=0) #,figsize=(25, 1.5))\n",
    "#    sns.xkcd_rgb['amber']\n",
    "#     _ = ax.set_xticklabels([])\n",
    "    _ = ax.set_yticklabels([])\n",
    "    _ = ax.legend().set_visible(False)\n",
    "#     _ = ax.set_xticklabels(range(start+1, end+2, 10), rotation=0)\n",
    "#    ax.xaxis.set_major_locator(MultipleLocator(50))\n",
    " #   ax.xaxis.set_minor_locator(MultipleLocator(1))\n",
    "    _ = ax.set_xticklabels([])\n",
    "    #_ = ax.set_xticklabels(range(start-50, end+1, 50), rotation=0)\n",
    "    _ = ax.xaxis.set_ticks_position('top') \n",
    "    ax.spines['left'].set_visible(False)\n",
    "    ax.spines['right'].set_visible(False)\n",
    "    ax.tick_params(right='off', left='off')\n",
    "    if arrow:\n",
    "        ax.arrow(a_s, 10, l_e-2, 0, head_width=10, linewidth=2,\n",
    "                head_length=2, fc='k', ec='k')\n",
    "        ax.text(a_s, 20, text, fontsize=30)\n",
    "    if both_arrows:\n",
    "        ax.arrow(a_s1+l_e1, 10, -(l_e1-2), 0, head_width=10, linewidth=2,\n",
    "                head_length=2, fc='k', ec='k')\n",
    "        ax.text(a_s1, 20, text1, fontsize=30)\n",
    "        ax.arrow(a_s2+l_e2, 10, -(l_e2-2), 0, head_width=10, linewidth=2,\n",
    "                head_length=2, fc='k', ec='k')\n",
    "        ax.text(a_s2, 20, text2, fontsize=30)\n",
    "    \n",
    "        \n",
    "        "
   ]
  },
  {
   "cell_type": "code",
   "execution_count": 22,
   "metadata": {
    "collapsed": false,
    "jupyter": {
     "outputs_hidden": false
    }
   },
   "outputs": [],
   "source": [
    "#for i in range(31, 1116, 600):\n",
    "#    print(\"plot_color(score_df, start={}, end={})\".format(i, i+600))\n",
    "# plot_color(score_df, start=50, end=200, arrow=True, \n",
    "#            a_s=122, l_e=17, text=\"For1\")"
   ]
  },
  {
   "cell_type": "code",
   "execution_count": 32,
   "metadata": {
    "collapsed": false,
    "jupyter": {
     "outputs_hidden": false
    }
   },
   "outputs": [
    {
     "data": {
      "image/png": "[encoded data removed]",
      "text/plain": [
       "<matplotlib.figure.Figure at 0x131176d68>"
      ]
     },
     "metadata": {},
     "output_type": "display_data"
    }
   ],
   "source": [
    "\n",
    "#fig, ax = matplotlib.pyplot(figsize=(25, 4))\n",
    "fig, ax = matplotlib.pyplot.subplots(figsize=(30, 3))\n",
    "plot_color(ax, score_df, start=31, end=1200)\n",
    "#plot_color(ax[1], score_df, start=631, end=1071)\n",
    "ax.arrow(141, 10, 15, 0, head_width=10, linewidth=2, head_length=2, fc='k', ec='k')\n",
    "ax.text(141, 20, 'For1', fontsize=15)\n",
    "ax.arrow(555, 10, -15, 0, head_width=10, linewidth=2, head_length=2, fc='k', ec='k')\n",
    "ax.text(537, 20, 'Rev2', fontsize=15)\n",
    "ax.arrow(234, 10, 14, 0, head_width=10, linewidth=2, head_length=2, fc='k', ec='k')\n",
    "ax.text(234, 20, 'For3', fontsize=15)\n",
    "ax.arrow(587, 10, -15, 0, head_width=10, linewidth=2, head_length=2, fc='k', ec='k')\n",
    "ax.text(569, 20, 'Rev1', fontsize=15)\n",
    "ax.text(30, -20, 'Exon1', fontsize=20)\n",
    "ax.text(180, -20, 'Exon2', fontsize=20)\n",
    "ax.text(470, -20, 'Exon3', fontsize=20)\n",
    "ax.text(750, -20, 'Exon4', fontsize=20)\n",
    "ax.text(935, -20, 'Exon5', fontsize=20)\n",
    "ax.text(1005, -20, 'Exon6', fontsize=20)\n",
    "ax.text(1045, -20, 'Exon7', fontsize=20)\n",
    "red_patch = mpatches.Patch(color='red', label='The red data')\n",
    "#ax[2].legend(handles=[red_patch])\n",
    "matplotlib.pyplot.tight_layout()\n",
    "matplotlib.pyplot.subplots_adjust(bottom=0.2)\n",
    "fig.savefig(\"PrimerLocation.png\", dpi=300)\n",
    "fig.savefig(\"PrimerLocation.pdf\")"
   ]
  },
  {
   "cell_type": "code",
   "execution_count": null,
   "metadata": {
    "collapsed": true,
    "jupyter": {
     "outputs_hidden": true
    }
   },
   "outputs": [],
   "source": []
  }
 ],
 "metadata": {
  "kernelspec": {
   "display_name": "Python 3 (ipykernel)",
   "language": "python",
   "name": "python3"
  },
  "language_info": {
   "codemirror_mode": {
    "name": "ipython",
    "version": 3
   },
   "file_extension": ".py",
   "mimetype": "text/x-python",
   "name": "python",
   "nbconvert_exporter": "python",
   "pygments_lexer": "ipython3",
   "version": "3.9.13"
  }
 },
 "nbformat": 4,
 "nbformat_minor": 4
}
